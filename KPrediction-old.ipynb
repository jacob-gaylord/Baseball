{
 "cells": [
  {
   "cell_type": "code",
   "execution_count": 1,
   "metadata": {},
   "outputs": [],
   "source": [
    "from pybaseball import statcast, pitching_stats, pitching_stats_range\n",
    "from collections import Counter\n",
    "import pandas as pd\n",
    "import numpy as np\n",
    "import matplotlib.pyplot as plt\n",
    "from sklearn.preprocessing import MinMaxScaler\n",
    "from sklearn.model_selection import train_test_split, GridSearchCV\n",
    "from sklearn.cluster import KMeans, DBSCAN, AgglomerativeClustering\n",
    "from sklearn.linear_model import LinearRegression\n",
    "from sklearn.ensemble import RandomForestRegressor, AdaBoostRegressor\n",
    "from xgboost import XGBRegressor\n",
    "from sklearn.decomposition import PCA\n",
    "from sklearn.metrics import silhouette_samples, silhouette_score, mean_absolute_error, r2_score\n",
    "import warnings\n",
    "warnings.filterwarnings('ignore')\n",
    "%matplotlib inline"
   ]
  },
  {
   "cell_type": "code",
   "execution_count": 4,
   "metadata": {},
   "outputs": [],
   "source": [
    "# Create lists of NL and AL team names i.e Braves, Mets, Phillies, Marlins, Nationals\n",
    "NL = ['Braves', 'Mets', 'Phillies', 'Marlins', 'Nationals', 'Cubs', 'Reds', 'Brewers', 'Pirates', 'Cardinals', 'Diamondbacks', 'Rockies', 'Dodgers', 'Padres', 'Giants']\n",
    "AL = ['Yankees', 'Rays', 'Blue Jays', 'Orioles', 'Red Sox', 'Indians', 'Tigers', 'Royals', 'Twins', 'White Sox', 'Astros', 'Athletics', 'Mariners', 'Angels', 'Rangers']\n",
    "\n",
    "# create a function team to league to return the league of a team\n",
    "def team_to_league(team):\n",
    "    if team in NL:\n",
    "        return 0\n",
    "    elif team in AL:\n",
    "        return 1\n",
    "    else:\n",
    "        return 2\n",
    "\n",
    "# create a function to return the average batters faced per game for a pitcher\n",
    "def batters_faced_per_game(df, pitcher):\n",
    "    temp_df = df[df['pitcher'] == pitcher]\n",
    "\n",
    "    #drop duplicates of subset ['game_pk', 'inning', 'batter'] and count number of batters faced in each game\n",
    "    temp_df = temp_df.drop_duplicates(subset=['game_pk', 'inning', 'batter'])\n",
    "    total_batters_faced = temp_df.shape[0]\n",
    "\n",
    "    # count number of games pitched in\n",
    "    games_pitched = temp_df['game_pk'].nunique()\n",
    "\n",
    "    # return average batters faced per game\n",
    "    return round(total_batters_faced / games_pitched, 1)\n",
    "\n",
    "# create a function to get speed location data with start and end date\n",
    "def get_speed_location_data(start_date, end_date):\n",
    "    #get raw pitch data from statcast\n",
    "    df = statcast(start_dt=start_date, end_dt=end_date)\n",
    "\n",
    "    # check columns for int type and convert them if not\n",
    "    for col in df.columns:\n",
    "        if df[col].dtype == 'int64':\n",
    "            df[col] = df[col].astype('int64')\n",
    "\n",
    "    # get the data for K rate and to compute the pitcher's strike percentage\n",
    "    strike_df = pitching_stats(start_date[:4])\n",
    "    strike_df = strike_df[['Season', 'Name', 'Team', 'SO', 'TBF', 'Pitches', 'Strikes']]\n",
    "    strike_df.columns = ['game_year', 'player_name', 'team', 'SO', 'TBF', 'Pitches', 'Strikes']\n",
    "    strike_df['K_rate'] = strike_df['SO'] / strike_df['TBF']\n",
    "    strike_df['strike_pct'] = strike_df['Strikes'] / strike_df['Pitches']\n",
    "    strike_df['league'] = strike_df['team'].apply(team_to_league)\n",
    "    strike_df.drop(['team', 'SO', 'TBF', 'Pitches', 'Strikes'], axis=1, inplace=True)\n",
    "    strike_df['game_year'] = strike_df['game_year'].astype('int64')\n",
    "\n",
    "    # merge the strike_df with the statcast df\n",
    "    df = df.merge(strike_df, how='inner', on=['player_name', 'game_year'])\n",
    "\n",
    "    #select only the columns we need\n",
    "    cols_to_keep = ['game_pk', 'inning', 'game_year', 'player_name', 'league', 'pitcher', 'batter', 'release_speed', 'pfx_x', 'pfx_z', 'plate_x', 'plate_z', 'strike_pct', 'K_rate']\n",
    "    df = df[cols_to_keep]\n",
    "\n",
    "    # drop any rows that have a null game_pk\n",
    "    df.dropna(subset=['game_pk'], inplace=True)\n",
    "\n",
    "    # make an index for observations\n",
    "    df['obs_index'] = df['game_year'].astype(str) + \"_\" + df['pitcher'].astype(str)\n",
    "\n",
    "    # get a count of pitchers and number of pitches thrown\n",
    "    pitcher_count = dict(Counter(df['pitcher']))\n",
    "\n",
    "    # list of pitchers with at least 1000 pitches thrown\n",
    "    pitchers = [pitcher for pitcher in pitcher_count if pitcher_count[pitcher] >= 1000]\n",
    "\n",
    "    #subset dataframe to only include pitchers with at least 1000 pitches thrown\n",
    "    df = df[df['pitcher'].isin(pitchers)]\n",
    "\n",
    "    # get the list of pitchers with at least 1000 pitches thrown and the average batters faced per game greater than 10\n",
    "    pitchers = [pitcher for pitcher in pitchers if batters_faced_per_game(df, pitcher) >= 10]\n",
    "\n",
    "    #subset dataframe to only include pitchers with at least 1000 pitches thrown and the average batters faced per game greater than 10\n",
    "    df = df[df['pitcher'].isin(pitchers)]\n",
    "\n",
    "    # keep only the columns we need\n",
    "    cols_to_keep = ['obs_index', 'pitcher', 'player_name', 'league', 'release_speed', 'pfx_x', 'pfx_z', 'plate_x', 'plate_z', 'strike_pct', 'K_rate']\n",
    "    df = df[cols_to_keep]\n",
    "\n",
    "    return df\n"
   ]
  },
  {
   "cell_type": "code",
   "execution_count": 5,
   "metadata": {},
   "outputs": [
    {
     "name": "stdout",
     "output_type": "stream",
     "text": [
      "This is a large query, it may take a moment to complete\n"
     ]
    },
    {
     "name": "stderr",
     "output_type": "stream",
     "text": [
      "100%|██████████| 194/194 [05:01<00:00,  1.56s/it]\n"
     ]
    },
    {
     "name": "stdout",
     "output_type": "stream",
     "text": [
      "This is a large query, it may take a moment to complete\n"
     ]
    },
    {
     "name": "stderr",
     "output_type": "stream",
     "text": [
      "100%|██████████| 186/186 [05:32<00:00,  1.79s/it]\n"
     ]
    },
    {
     "name": "stdout",
     "output_type": "stream",
     "text": [
      "Shape: (0, 11)\n",
      "Unique pitchers: 0\n",
      "Unique observations: 0\n"
     ]
    }
   ],
   "source": [
    "#get the data using pybaseball\n",
    "# create training data dates list\n",
    "train_dates = [('2019-03-20', '2019-09-29'), ('2021-04-01', '2021-10-03')]\n",
    "\n",
    "# create train data list\n",
    "train_data = []\n",
    "for dates in train_dates:\n",
    "    train_data.append(get_speed_location_data(dates[0], dates[1]))\n",
    "\n",
    "# concat the train data list\n",
    "train_data = pd.concat(train_data)\n",
    "# save the train data to a csv\n",
    "train_data.to_csv('train_data.csv', index=False)\n",
    "# print the shape of the train data, the number of unique pitchers, and the number of unique observations\n",
    "print(f\"Shape: {train_data.shape}\")\n",
    "print(f\"Unique pitchers: {train_data['pitcher'].nunique()}\")\n",
    "print(f\"Unique observations: {train_data['obs_index'].nunique()}\")\n"
   ]
  },
  {
   "cell_type": "code",
   "execution_count": 6,
   "metadata": {},
   "outputs": [
    {
     "data": {
      "text/html": [
       "<div>\n",
       "<style scoped>\n",
       "    .dataframe tbody tr th:only-of-type {\n",
       "        vertical-align: middle;\n",
       "    }\n",
       "\n",
       "    .dataframe tbody tr th {\n",
       "        vertical-align: top;\n",
       "    }\n",
       "\n",
       "    .dataframe thead th {\n",
       "        text-align: right;\n",
       "    }\n",
       "</style>\n",
       "<table border=\"1\" class=\"dataframe\">\n",
       "  <thead>\n",
       "    <tr style=\"text-align: right;\">\n",
       "      <th></th>\n",
       "      <th>obs_index</th>\n",
       "      <th>pitcher</th>\n",
       "      <th>player_name</th>\n",
       "      <th>league</th>\n",
       "      <th>release_speed</th>\n",
       "      <th>pfx_x</th>\n",
       "      <th>pfx_z</th>\n",
       "      <th>plate_x</th>\n",
       "      <th>plate_z</th>\n",
       "      <th>strike_pct</th>\n",
       "      <th>K_rate</th>\n",
       "    </tr>\n",
       "  </thead>\n",
       "  <tbody>\n",
       "  </tbody>\n",
       "</table>\n",
       "</div>"
      ],
      "text/plain": [
       "Empty DataFrame\n",
       "Columns: [obs_index, pitcher, player_name, league, release_speed, pfx_x, pfx_z, plate_x, plate_z, strike_pct, K_rate]\n",
       "Index: []"
      ]
     },
     "execution_count": 6,
     "metadata": {},
     "output_type": "execute_result"
    }
   ],
   "source": [
    "train_data"
   ]
  },
  {
   "cell_type": "code",
   "execution_count": null,
   "metadata": {},
   "outputs": [],
   "source": []
  }
 ],
 "metadata": {
  "kernelspec": {
   "display_name": "Python 3.9.12 ('base')",
   "language": "python",
   "name": "python3"
  },
  "language_info": {
   "codemirror_mode": {
    "name": "ipython",
    "version": 3
   },
   "file_extension": ".py",
   "mimetype": "text/x-python",
   "name": "python",
   "nbconvert_exporter": "python",
   "pygments_lexer": "ipython3",
   "version": "3.9.12"
  },
  "orig_nbformat": 4,
  "vscode": {
   "interpreter": {
    "hash": "de3a36d475e5f26841ec7388f3bf55db2f49f9bc2f20706f42a79b37e051f6ab"
   }
  }
 },
 "nbformat": 4,
 "nbformat_minor": 2
}
